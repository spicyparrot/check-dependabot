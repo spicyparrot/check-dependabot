{
 "cells": [
  {
   "cell_type": "code",
   "execution_count": 18,
   "metadata": {},
   "outputs": [],
   "source": [
    "# Querying GitHub API for open Dependabot Alerts #####\n",
    "import os\n",
    "import requests\n",
    "import pandas as pd\n",
    "import pprint as pp\n",
    "import tabulate as tb\n",
    "\n",
    "# Functions\n",
    "def get_header(token):\n",
    "    auth=\"Bearer \" + token\n",
    "    authdict={\"Authorization\": auth}\n",
    "    return authdict\n",
    "\n",
    "def get_api_url():\n",
    "    if \"GITHUB_API_URL\" in os.environ:\n",
    "        url = os.environ[\"GITHUB_API_URL\"]\n",
    "    else:\n",
    "        url = 'https://api.github.com/graphql'\n",
    "    \n",
    "    return url\n",
    "\n",
    "# A simple function to use requests.post to make the API call. Note the json= section.\n",
    "def run_query(query,token): \n",
    "    head=get_header(token)\n",
    "    apiURL=get_api_url()\n",
    "    request = requests.post(apiURL, json={'query': query}, headers=head)\n",
    "    if request.status_code == 200:\n",
    "        response=request.json()\n",
    "        return response\n",
    "    else:\n",
    "        raise Exception(\"Query failed to run by returning code of {}. {}\".format(request.status_code, query))\n",
    "\n",
    "def get_alerts(repo,owner,token): #  A simple function to use requests.post to make the API call. Note the json= section.\n",
    "    # TODO - get around the pagination limits for accurate total issues\n",
    "    # The GraphQL query (with a few aditional bits included) itself defined as a multi-line string.       \n",
    "    query = \"\"\"\n",
    "    {\n",
    "        repository(name: \"REPO_NAME\", owner: \"REPO_OWNER\") {\n",
    "            vulnerabilityAlerts(first: 100,states: OPEN) {\n",
    "                nodes {\n",
    "                    state\n",
    "                    createdAt\n",
    "                    dismissedAt\n",
    "                    state\n",
    "                    securityVulnerability {\n",
    "                        severity\n",
    "                    }\n",
    "                }\n",
    "            }\n",
    "        }\n",
    "    }\n",
    "    \"\"\"\n",
    "    # Parameterize the name/owner of the repo (TODO - multi-line f string)\n",
    "    query=query.replace(\"REPO_NAME\",repo)\n",
    "    query=query.replace(\"REPO_OWNER\",owner)\n",
    "    # Query GitHub API\n",
    "    result=run_query(query,token)\n",
    "    pp.pprint(result)\n",
    "    # Flatten into a dataframe\n",
    "    rows=result['data']['repository']['vulnerabilityAlerts']['nodes']\n",
    "    rows=pd.json_normalize(rows)\n",
    "    # Append into an empty state to handle 0 rows\n",
    "    alerts=pd.DataFrame(columns = ['state','securityVulnerability.severity','createdAt','dismissedAt'])\n",
    "    alerts = alerts.append(rows)\n",
    "    alerts=alerts.rename(columns={\"securityVulnerability.severity\": \"severity\"})\n",
    "    # Return the number of alerts to console\n",
    "    return alerts\n",
    "\n",
    "def main():\n",
    "    # Get inputs from envars (GitHub converts all inputs into INPUT_<UPPER CASE OF INPUT>)\n",
    "    token = os.environ[\"INPUT_GITHUB_PERSONAL_TOKEN\"]\n",
    "    owner = os.environ[\"GITHUB_REPOSITORY_OWNER\"]\n",
    "    repo = os.environ[\"GITHUB_REPOSITORY\"]\n",
    "    repoName = repo.split(\"/\")[-1]                      #  Cleans the in-case we get 'owner/repo' format\n",
    "    # Query GitHub for full alerts breakdown\n",
    "    alerts=get_alerts(repoName,owner,token)\n",
    "    pp.pprint(alerts)\n",
    "    # Breakdown stats\n",
    "    statsDict={\"total_alerts\": len(alerts)}\n",
    "    statsDict['critical_alerts']=len(alerts.loc[alerts['severity'] == 'CRITICAL'])\n",
    "    statsDict['high_alerts']=len(alerts.loc[alerts['severity'] == 'HIGH'])\n",
    "    statsDict['moderate_alerts']=len(alerts.loc[alerts['severity'] == 'MODERATE'])\n",
    "    statsDict['low_alerts']=len(alerts.loc[alerts['severity'] == 'LOW'])\n",
    "    pp.pprint(statsDict)\n",
    "    #Set Outputs\n",
    "    print(f\"::set-output name=total_alerts::{statsDict['total_alerts']}\")\n",
    "    print(f\"::set-output name=critical_alerts::{statsDict['critical_alerts']}\")\n",
    "    print(f\"::set-output name=high_alerts::{statsDict['high_alerts']}\")\n",
    "    print(f\"::set-output name=moderate_alerts::{statsDict['moderate_alerts']}\")\n",
    "    print(f\"::set-output name=low_alerts::{statsDict['low_alerts']}\")\n",
    "    #Create markdown summary\n",
    "    summaryFile = os.environ[\"GITHUB_STEP_SUMMARY\"]  #https://docs.github.com/en/actions/using-workflows/workflow-commands-for-github-actions#adding-a-job-summary\n",
    "    summary = {'Severity': ['CRITICAL','HIGH','MODERATE','LOW'], 'Open Issues': list( map(statsDict.get,['critical_alerts','high_alerts','moderate_alerts','low_alerts']))}\n",
    "    summary = pd.DataFrame(data=summary)\n",
    "    summary=summary.set_index('Severity')\n",
    "    summaryMD=summary.to_markdown()\n",
    "    summaryText=f\"## ⚠ Open Dependabot Alerts\\n There are currently {statsDict['total_alerts']} open security [vulnerabilities](https://github.com/{repo}/security/dependabot).\\n\"\n",
    "    with open(summaryFile, \"a\") as myfile:\n",
    "        myfile.write(summaryText)\n",
    "        myfile.write(summaryMD)"
   ]
  },
  {
   "cell_type": "code",
   "execution_count": 25,
   "metadata": {},
   "outputs": [
    {
     "ename": "Exception",
     "evalue": "Query failed to run by returning code of 200",
     "output_type": "error",
     "traceback": [
      "\u001b[0;31m---------------------------------------------------------------------------\u001b[0m",
      "\u001b[0;31mException\u001b[0m                                 Traceback (most recent call last)",
      "\u001b[1;32m/home/cbath/check-dependabot/docs/analysis/notebooks/dependabot.ipynb Cell 2\u001b[0m in \u001b[0;36m<cell line: 3>\u001b[0;34m()\u001b[0m\n\u001b[1;32m      <a href='vscode-notebook-cell://wsl%2Bubuntu-20.04/home/cbath/check-dependabot/docs/analysis/notebooks/dependabot.ipynb#ch0000005vscode-remote?line=4'>5</a>\u001b[0m     \u001b[39mprint\u001b[39m(\u001b[39m\"\u001b[39m\u001b[39mstuff\u001b[39m\u001b[39m\"\u001b[39m)\n\u001b[1;32m      <a href='vscode-notebook-cell://wsl%2Bubuntu-20.04/home/cbath/check-dependabot/docs/analysis/notebooks/dependabot.ipynb#ch0000005vscode-remote?line=5'>6</a>\u001b[0m \u001b[39melse\u001b[39;00m:\n\u001b[0;32m----> <a href='vscode-notebook-cell://wsl%2Bubuntu-20.04/home/cbath/check-dependabot/docs/analysis/notebooks/dependabot.ipynb#ch0000005vscode-remote?line=6'>7</a>\u001b[0m     \u001b[39mraise\u001b[39;00m \u001b[39mException\u001b[39;00m(\u001b[39m\"\u001b[39m\u001b[39mQuery failed to run by returning code of \u001b[39m\u001b[39m{}\u001b[39;00m\u001b[39m\"\u001b[39m\u001b[39m.\u001b[39mformat(err))\n",
      "\u001b[0;31mException\u001b[0m: Query failed to run by returning code of 200"
     ]
    }
   ],
   "source": [
    "err=200\n",
    "\n",
    "if 1 == 2:\n",
    "    response=request.json()\n",
    "    print(\"stuff\")\n",
    "else:\n",
    "    raise Exception(\"Query failed to run by returning code of {}\".format(err))"
   ]
  },
  {
   "cell_type": "code",
   "execution_count": 19,
   "metadata": {},
   "outputs": [
    {
     "data": {
      "text/plain": [
       "'https://api.github.com/graphql'"
      ]
     },
     "execution_count": 19,
     "metadata": {},
     "output_type": "execute_result"
    }
   ],
   "source": [
    "os.environ[\"INPUT_GITHUB_PERSONAL_TOKEN\"] = \"\"\n",
    "os.environ[\"GITHUB_REPOSITORY_OWNER\"] = \"spicyparrot\"\n",
    "os.environ[\"GITHUB_REPOSITORY\"] = \"spicyparrot/check-dependabot\"\n",
    "get_api_url()"
   ]
  },
  {
   "cell_type": "code",
   "execution_count": 20,
   "metadata": {},
   "outputs": [
    {
     "name": "stdout",
     "output_type": "stream",
     "text": [
      "{'data': {'repository': {'vulnerabilityAlerts': {'nodes': []}}}}\n"
     ]
    },
    {
     "name": "stderr",
     "output_type": "stream",
     "text": [
      "/tmp/ipykernel_13/1142670249.py:64: FutureWarning: The frame.append method is deprecated and will be removed from pandas in a future version. Use pandas.concat instead.\n",
      "  alerts = alerts.append(rows)\n"
     ]
    }
   ],
   "source": [
    "token = os.environ[\"INPUT_GITHUB_PERSONAL_TOKEN\"]\n",
    "owner = os.environ[\"GITHUB_REPOSITORY_OWNER\"]\n",
    "repo = os.environ[\"GITHUB_REPOSITORY\"]\n",
    "repoName = repo.split(\"/\")[-1]\n",
    "alerts=get_alerts(repoName,owner,token)"
   ]
  },
  {
   "cell_type": "code",
   "execution_count": 6,
   "metadata": {},
   "outputs": [
    {
     "name": "stdout",
     "output_type": "stream",
     "text": [
      "('\\n'\n",
      " '{\\n'\n",
      " '    repository(name: \"spicyparrot/check-dependabot\", owner: \"spicyparrot\") '\n",
      " '{\\n'\n",
      " '        vulnerabilityAlerts(first: 100,states: OPEN) {\\n'\n",
      " '            nodes {\\n'\n",
      " '                state\\n'\n",
      " '                createdAt\\n'\n",
      " '                dismissedAt\\n'\n",
      " '                state\\n'\n",
      " '                securityVulnerability {\\n'\n",
      " '                    severity\\n'\n",
      " '                }\\n'\n",
      " '            }\\n'\n",
      " '        }\\n'\n",
      " '    }\\n'\n",
      " '}\\n')\n"
     ]
    },
    {
     "ename": "Exception",
     "evalue": "Query failed to run by returning code of 404. \n{\n    repository(name: \"spicyparrot/check-dependabot\", owner: \"spicyparrot\") {\n        vulnerabilityAlerts(first: 100,states: OPEN) {\n            nodes {\n                state\n                createdAt\n                dismissedAt\n                state\n                securityVulnerability {\n                    severity\n                }\n            }\n        }\n    }\n}\n",
     "output_type": "error",
     "traceback": [
      "\u001b[0;31m---------------------------------------------------------------------------\u001b[0m",
      "\u001b[0;31mException\u001b[0m                                 Traceback (most recent call last)",
      "\u001b[1;32m/home/cbath/check-dependabot/docs/analysis/notebooks/dependabot.ipynb Cell 4\u001b[0m in \u001b[0;36m<cell line: 24>\u001b[0;34m()\u001b[0m\n\u001b[1;32m     <a href='vscode-notebook-cell://wsl%2Bubuntu-20.04/home/cbath/check-dependabot/docs/analysis/notebooks/dependabot.ipynb#ch0000004vscode-remote?line=21'>22</a>\u001b[0m query\u001b[39m=\u001b[39mquery\u001b[39m.\u001b[39mreplace(\u001b[39m\"\u001b[39m\u001b[39mREPO_OWNER\u001b[39m\u001b[39m\"\u001b[39m,owner)\n\u001b[1;32m     <a href='vscode-notebook-cell://wsl%2Bubuntu-20.04/home/cbath/check-dependabot/docs/analysis/notebooks/dependabot.ipynb#ch0000004vscode-remote?line=22'>23</a>\u001b[0m pp\u001b[39m.\u001b[39mpprint(query)\n\u001b[0;32m---> <a href='vscode-notebook-cell://wsl%2Bubuntu-20.04/home/cbath/check-dependabot/docs/analysis/notebooks/dependabot.ipynb#ch0000004vscode-remote?line=23'>24</a>\u001b[0m result\u001b[39m=\u001b[39mrun_query(query,token)\n",
      "\u001b[1;32m/home/cbath/check-dependabot/docs/analysis/notebooks/dependabot.ipynb Cell 4\u001b[0m in \u001b[0;36mrun_query\u001b[0;34m(query, token)\u001b[0m\n\u001b[1;32m     <a href='vscode-notebook-cell://wsl%2Bubuntu-20.04/home/cbath/check-dependabot/docs/analysis/notebooks/dependabot.ipynb#ch0000004vscode-remote?line=28'>29</a>\u001b[0m     \u001b[39mreturn\u001b[39;00m response\n\u001b[1;32m     <a href='vscode-notebook-cell://wsl%2Bubuntu-20.04/home/cbath/check-dependabot/docs/analysis/notebooks/dependabot.ipynb#ch0000004vscode-remote?line=29'>30</a>\u001b[0m \u001b[39melse\u001b[39;00m:\n\u001b[0;32m---> <a href='vscode-notebook-cell://wsl%2Bubuntu-20.04/home/cbath/check-dependabot/docs/analysis/notebooks/dependabot.ipynb#ch0000004vscode-remote?line=30'>31</a>\u001b[0m     \u001b[39mraise\u001b[39;00m \u001b[39mException\u001b[39;00m(\u001b[39m\"\u001b[39m\u001b[39mQuery failed to run by returning code of \u001b[39m\u001b[39m{}\u001b[39;00m\u001b[39m. \u001b[39m\u001b[39m{}\u001b[39;00m\u001b[39m\"\u001b[39m\u001b[39m.\u001b[39mformat(request\u001b[39m.\u001b[39mstatus_code, query))\n",
      "\u001b[0;31mException\u001b[0m: Query failed to run by returning code of 404. \n{\n    repository(name: \"spicyparrot/check-dependabot\", owner: \"spicyparrot\") {\n        vulnerabilityAlerts(first: 100,states: OPEN) {\n            nodes {\n                state\n                createdAt\n                dismissedAt\n                state\n                securityVulnerability {\n                    severity\n                }\n            }\n        }\n    }\n}\n"
     ]
    }
   ],
   "source": [
    "\n",
    "# TODO - get around the pagination limits for accurate total issues\n",
    "# The GraphQL query (with a few aditional bits included) itself defined as a multi-line string.       \n",
    "query = \"\"\"\n",
    "{\n",
    "    repository(name: \"REPO_NAME\", owner: \"REPO_OWNER\") {\n",
    "        vulnerabilityAlerts(first: 100,states: OPEN) {\n",
    "            nodes {\n",
    "                state\n",
    "                createdAt\n",
    "                dismissedAt\n",
    "                state\n",
    "                securityVulnerability {\n",
    "                    severity\n",
    "                }\n",
    "            }\n",
    "        }\n",
    "    }\n",
    "}\n",
    "\"\"\"\n",
    "# Parameterise the name/owner of the repo (TODO - multi-line f string)\n",
    "query=query.replace(\"REPO_NAME\",repo)\n",
    "query=query.replace(\"REPO_OWNER\",owner)\n",
    "pp.pprint(query)\n",
    "result=run_query(query,token)\n"
   ]
  },
  {
   "cell_type": "code",
   "execution_count": 16,
   "metadata": {},
   "outputs": [
    {
     "data": {
      "text/plain": [
       "{'message': 'Not Found', 'documentation_url': 'https://docs.github.com/rest'}"
      ]
     },
     "execution_count": 16,
     "metadata": {},
     "output_type": "execute_result"
    }
   ],
   "source": [
    "\n",
    "head=get_header(token)\n",
    "apiURL=get_api_url()\n",
    "request = requests.post(apiURL, json={'query': query}, headers=head)\n",
    "response=request.json()\n",
    "request.json()\n",
    "\n",
    "\n",
    "#if request.status_code == 200:\n",
    "#    \n",
    "#    return response\n",
    "#else:\n",
    "#    raise Exception(\"Query failed to run by returning code of {}. {}\".format(request.status_code, query))"
   ]
  }
 ],
 "metadata": {
  "kernelspec": {
   "display_name": "Python 3 (ipykernel)",
   "language": "python",
   "name": "python3"
  },
  "language_info": {
   "codemirror_mode": {
    "name": "ipython",
    "version": 3
   },
   "file_extension": ".py",
   "mimetype": "text/x-python",
   "name": "python",
   "nbconvert_exporter": "python",
   "pygments_lexer": "ipython3",
   "version": "3.9.12"
  },
  "orig_nbformat": 4,
  "vscode": {
   "interpreter": {
    "hash": "97cc609b13305c559618ec78a438abc56230b9381f827f22d070313b9a1f3777"
   }
  }
 },
 "nbformat": 4,
 "nbformat_minor": 2
}
